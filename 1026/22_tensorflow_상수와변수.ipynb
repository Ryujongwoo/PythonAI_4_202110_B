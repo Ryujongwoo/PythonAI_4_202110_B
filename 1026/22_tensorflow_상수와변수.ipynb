{
 "cells": [
  {
   "cell_type": "code",
   "execution_count": 1,
   "id": "d1772a39",
   "metadata": {},
   "outputs": [],
   "source": [
    "import warnings\n",
    "warnings.filterwarnings(\"ignore\")"
   ]
  },
  {
   "cell_type": "code",
   "execution_count": 2,
   "id": "393fad0c",
   "metadata": {},
   "outputs": [
    {
     "name": "stdout",
     "output_type": "stream",
     "text": [
      "WARNING:tensorflow:From c:\\python\\lib\\site-packages\\tensorflow\\python\\compat\\v2_compat.py:101: disable_resource_variables (from tensorflow.python.ops.variable_scope) is deprecated and will be removed in a future version.\n",
      "Instructions for updating:\n",
      "non-resource variables are not supported in the long term\n",
      "2.6.0\n"
     ]
    }
   ],
   "source": [
    "# tensorflow 라이브러리를 설치하고 tf라는 별명을 지정한다.\n",
    "# !pip install tensorflow\n",
    "# import tensorflow as tf # 2.x 버전 import\n",
    "# tensorflow 2.x 버전이 설치된 경우 tensorflow 1.x 버전 문법을 사용하려면 아래와 같이 import 한다.\n",
    "import tensorflow.compat.v1 as tf\n",
    "# tensorflow 2.x 버전의 문법을 사용하지 않겠다고 선언한다.\n",
    "tf.disable_v2_behavior()\n",
    "print(tf.__version__)"
   ]
  },
  {
   "cell_type": "markdown",
   "id": "473acb30",
   "metadata": {},
   "source": [
    "상수, 수식을 만든다. => 세션을 만든다. => 실행한다."
   ]
  },
  {
   "cell_type": "markdown",
   "id": "19e76946",
   "metadata": {},
   "source": [
    "tensorflow 상수"
   ]
  },
  {
   "cell_type": "code",
   "execution_count": 3,
   "id": "2fe6de8e",
   "metadata": {},
   "outputs": [
    {
     "name": "stdout",
     "output_type": "stream",
     "text": [
      "Tensor(\"Const:0\", shape=(), dtype=int32)\n",
      "Tensor(\"Const_1:0\", shape=(), dtype=int32)\n",
      "Tensor(\"add:0\", shape=(), dtype=int32)\n",
      "Tensor(\"Add_1:0\", shape=(), dtype=int32)\n",
      "a = 300\n",
      "b = 500\n",
      "a + b = 800\n",
      "tf.add(a, b) = 800\n"
     ]
    }
   ],
   "source": [
    "# constant(): tensorflow에서 사용할 상수를 정의하는 함수\n",
    "a = tf.constant(300) # tensorflow에서 사용할 상수를 정의한다.\n",
    "print(a)\n",
    "b = tf.constant(500)\n",
    "print(b)\n",
    "c = a + b            # tensorflow에서 사용할 수식를 정의(준비)한다.\n",
    "print(c)\n",
    "d = tf.add(a, b)\n",
    "print(d)\n",
    "\n",
    "# tensorflow는 반드시 Session이라는 작업 영역을 만든 후 상수, 변수, 수식을 대입한 다음 실행해야 한다.\n",
    "sess = tf.Session() # tensorflow Session을 만든다.\n",
    "# run(): tensorflow에서 Session의 내용을 실행하는 함수\n",
    "print('a =', sess.run(a))\n",
    "print('b =', sess.run(b))\n",
    "print('a + b =', sess.run(c))\n",
    "print('tf.add(a, b) =', sess.run(d))"
   ]
  },
  {
   "cell_type": "markdown",
   "id": "1a22b1bc",
   "metadata": {},
   "source": [
    "변수를 만든다. => 세션을 만든다. => 변수를 초기화 시킨다. => 실행한다."
   ]
  },
  {
   "cell_type": "markdown",
   "id": "cdf01588",
   "metadata": {},
   "source": [
    "tensorflow 변수"
   ]
  },
  {
   "cell_type": "code",
   "execution_count": 5,
   "id": "4e77104d",
   "metadata": {},
   "outputs": [
    {
     "name": "stdout",
     "output_type": "stream",
     "text": [
      "<tf.Variable 'Variable_3:0' shape=() dtype=int32_ref>\n",
      "<tf.Variable 'Variable_4:0' shape=() dtype=int32_ref>\n",
      "Tensor(\"mul_2:0\", shape=(), dtype=int32)\n",
      "a = 5\n",
      "b = 3\n",
      "a * b = 15\n",
      "tf.mul(a, b) = 45\n",
      "Tensor(\"Mul_3:0\", shape=(), dtype=int32)\n"
     ]
    }
   ],
   "source": [
    "# Variable(): tensorflow에서 사용할 변수를 정의하는 함수\n",
    "a = tf.Variable(5) # tensorflow에서 사용할 변수를 정의하고 데이터를 넣어준다.\n",
    "print(a)\n",
    "b = tf.Variable(3)\n",
    "print(b)\n",
    "c = a * b\n",
    "print(c)\n",
    "\n",
    "sess = tf.Session()\n",
    "\n",
    "# Variable() 함수를 사용해서 생성한 tensorflow 변수는 반드시 사용하기 전에 초기화시켜야 한다.\n",
    "# tensorflow 변수 초기화는 변수를 사용한 연산을 실행(사용)하기 전에만 해주면 된다.\n",
    "# global_variables_initializer(): tensorflow에서 사용할 변수를 초기화시키는 함수\n",
    "\n",
    "# tensorflow 변수 초기화\n",
    "# init = tf.global_variables_initializer()\n",
    "# sess.run(init)\n",
    "# 위의 2줄로 사용한 tensorflow 변수 초기화를 아래와 같이 1줄로 줄여서 사용할 수 있다.\n",
    "sess.run(tf.global_variables_initializer())\n",
    "\n",
    "print('a =', sess.run(a))\n",
    "print('b =', sess.run(b))\n",
    "print('a * b =', sess.run(c))\n",
    "print('tf.mul(a, b) =', sess.run(d))\n",
    "\n",
    "a = tf.Variable(15) # tensorflow 변수에 저장된 데이터를 변경했다.\n",
    "# tensorflow 변수에 저장된 데이터가 변경되고 변경된 데이터로 다시 연산을 해야 할 경우 변수를 다시 초기화 시켜야 한다.\n",
    "sess.run(tf.global_variables_initializer())\n",
    "d = tf.multiply(a, b)\n",
    "print(d)"
   ]
  },
  {
   "cell_type": "code",
   "execution_count": null,
   "id": "f219df65",
   "metadata": {},
   "outputs": [],
   "source": []
  },
  {
   "cell_type": "code",
   "execution_count": null,
   "id": "4c2f2ddc",
   "metadata": {},
   "outputs": [],
   "source": []
  },
  {
   "cell_type": "code",
   "execution_count": null,
   "id": "cc4de4a3",
   "metadata": {},
   "outputs": [],
   "source": []
  },
  {
   "cell_type": "code",
   "execution_count": null,
   "id": "b1a3f557",
   "metadata": {},
   "outputs": [],
   "source": []
  },
  {
   "cell_type": "code",
   "execution_count": null,
   "id": "c0162521",
   "metadata": {},
   "outputs": [],
   "source": []
  },
  {
   "cell_type": "code",
   "execution_count": null,
   "id": "5890510e",
   "metadata": {},
   "outputs": [],
   "source": []
  },
  {
   "cell_type": "code",
   "execution_count": null,
   "id": "a10054d4",
   "metadata": {},
   "outputs": [],
   "source": []
  },
  {
   "cell_type": "code",
   "execution_count": null,
   "id": "cc429bde",
   "metadata": {},
   "outputs": [],
   "source": []
  }
 ],
 "metadata": {
  "kernelspec": {
   "display_name": "Python 3",
   "language": "python",
   "name": "python3"
  },
  "language_info": {
   "codemirror_mode": {
    "name": "ipython",
    "version": 3
   },
   "file_extension": ".py",
   "mimetype": "text/x-python",
   "name": "python",
   "nbconvert_exporter": "python",
   "pygments_lexer": "ipython3",
   "version": "3.6.8"
  }
 },
 "nbformat": 4,
 "nbformat_minor": 5
}
