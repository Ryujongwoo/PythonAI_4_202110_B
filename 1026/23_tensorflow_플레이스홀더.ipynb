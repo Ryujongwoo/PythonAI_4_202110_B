{
 "cells": [
  {
   "cell_type": "code",
   "execution_count": 1,
   "id": "8fa67283",
   "metadata": {},
   "outputs": [
    {
     "name": "stdout",
     "output_type": "stream",
     "text": [
      "WARNING:tensorflow:From c:\\python\\lib\\site-packages\\tensorflow\\python\\compat\\v2_compat.py:101: disable_resource_variables (from tensorflow.python.ops.variable_scope) is deprecated and will be removed in a future version.\n",
      "Instructions for updating:\n",
      "non-resource variables are not supported in the long term\n"
     ]
    }
   ],
   "source": [
    "import warnings\n",
    "warnings.filterwarnings(\"ignore\")\n",
    "import tensorflow.compat.v1 as tf\n",
    "tf.disable_v2_behavior()"
   ]
  },
  {
   "cell_type": "markdown",
   "id": "03147f6d",
   "metadata": {},
   "source": [
    "placeholder는 tensorflow에서 사용하는 여러건의 학습 데이터를 저장하는 일종의 변수이다.  \n",
    "placeholder(dtype, shape, name)  \n",
    "dtype => placeholder에 저장되는 데이터의 자료형  \n",
    "shape => placeholder에 저장되는 데이터으이 차원 => 생략가능  \n",
    "name  => placeholder의 이름 => 생략가능"
   ]
  },
  {
   "cell_type": "code",
   "execution_count": 12,
   "id": "1e5f5d19",
   "metadata": {},
   "outputs": [
    {
     "name": "stdout",
     "output_type": "stream",
     "text": [
      "[6. 6. 6. 6. 6.]\n"
     ]
    }
   ],
   "source": [
    "# tensorflow의 placeholder에 저장할 데이터를 선언한다.\n",
    "xData = [1, 2, 3, 4, 5]\n",
    "yData = [5, 4, 3, 2, 1]\n",
    "\n",
    "# placeholder를 선언한다.\n",
    "x = tf.placeholder(dtype=tf.float32) # xData의 내용을 기억하는 placeholder를 선언한다.\n",
    "y = tf.placeholder(dtype=tf.float32) # yData의 내용을 기억하는 placeholder를 선언한다.\n",
    "\n",
    "# placeholder를 사용하는 수식을 선언한다.\n",
    "z = x + y\n",
    "\n",
    "sess = tf.Session()\n",
    "\n",
    "# 연산에 사용할 데이터를 placeholder에 대입하고 실행한다.\n",
    "# z라고 정의한 연산식을 실행한다. => z에 연산 결과를 저장해야 하는 x, y placeholder에 데이터가 채워져있지 않기 때문에 반드시\n",
    "# 'feed_dict'라는 이름의 딕셔너리를 사용해서 데이터를 넣어준 후 연산을 실행해야 한다.\n",
    "# 'feed_dict' 딕셔너리의 구조 => {placeholder 이름: 데이터, placeholder 이름: data, ...} => data는 반드시 리스트 또는 튜플\n",
    "# 타입의 대이터를 사용해야 한다.\n",
    "result = sess.run(z, feed_dict={x: xData, y: yData})\n",
    "print(result)"
   ]
  },
  {
   "cell_type": "code",
   "execution_count": null,
   "id": "b5c64678",
   "metadata": {},
   "outputs": [],
   "source": []
  },
  {
   "cell_type": "code",
   "execution_count": null,
   "id": "aeab92df",
   "metadata": {},
   "outputs": [],
   "source": []
  },
  {
   "cell_type": "code",
   "execution_count": null,
   "id": "d6fa7934",
   "metadata": {},
   "outputs": [],
   "source": []
  },
  {
   "cell_type": "code",
   "execution_count": null,
   "id": "076ac204",
   "metadata": {},
   "outputs": [],
   "source": []
  },
  {
   "cell_type": "code",
   "execution_count": null,
   "id": "790c39c7",
   "metadata": {},
   "outputs": [],
   "source": []
  },
  {
   "cell_type": "code",
   "execution_count": null,
   "id": "c7b797ff",
   "metadata": {},
   "outputs": [],
   "source": []
  },
  {
   "cell_type": "code",
   "execution_count": null,
   "id": "68052675",
   "metadata": {},
   "outputs": [],
   "source": []
  }
 ],
 "metadata": {
  "kernelspec": {
   "display_name": "Python 3",
   "language": "python",
   "name": "python3"
  },
  "language_info": {
   "codemirror_mode": {
    "name": "ipython",
    "version": 3
   },
   "file_extension": ".py",
   "mimetype": "text/x-python",
   "name": "python",
   "nbconvert_exporter": "python",
   "pygments_lexer": "ipython3",
   "version": "3.6.8"
  }
 },
 "nbformat": 4,
 "nbformat_minor": 5
}
